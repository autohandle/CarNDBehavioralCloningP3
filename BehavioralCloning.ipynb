{
 "cells": [
  {
   "cell_type": "markdown",
   "metadata": {},
   "source": [
    "# This is the initial version of the pipeline. The current version is\n",
    "[GeneratorBehavioralCloning.ipynb](https://github.com/autohandle/CarNDBehavioralCloningP3/blob/master/GeneratorBehavioralCloning.ipynb)\n"
   ]
  },
  {
   "cell_type": "code",
   "execution_count": 2,
   "metadata": {
    "collapsed": true
   },
   "outputs": [],
   "source": [
    "import csv\n",
    "\n",
    "DATADIRECTORY=\"./simData\"\n",
    "IMAGEDIRECTORY=\"./simData/IMG\"\n",
    "DRIVINGLOG=DATADIRECTORY+\"/driving_log.csv\"\n",
    "lines=[]\n",
    "with open(DRIVINGLOG) as csvFile:\n",
    "    reader=csv.reader(csvFile)\n",
    "    for line in reader:\n",
    "        lines.append(line)\n",
    "\n",
    "import cv2\n",
    "\n",
    "CENTERIMAGE=0\n",
    "STEERINGMEASUEMENT=3\n",
    "CAMERAS=3\n",
    "# CENTER, LEFT, RIGHT\n",
    "STERRINGADJUSTMENT=[0, .3, -.3]\n"
   ]
  },
  {
   "cell_type": "code",
   "execution_count": 3,
   "metadata": {},
   "outputs": [
    {
     "name": "stderr",
     "output_type": "stream",
     "text": [
      "/home/carnd/anaconda3/envs/carnd-term1/lib/python3.5/site-packages/ipykernel_launcher.py:10: FutureWarning: comparison to `None` will result in an elementwise object comparison in the future.\n",
      "  # Remove the CWD from sys.path while we load stuff.\n"
     ]
    },
    {
     "name": "stdout",
     "output_type": "stream",
     "text": [
      "len(images): 32511 len(steeringMeasurements): 32511\n",
      "images[0].shape: (160, 320, 3)\n"
     ]
    }
   ],
   "source": [
    "images=[]\n",
    "steeringMeasurements=[]\n",
    "for line in lines:\n",
    "#for line in lines[0:1]:\n",
    "    for camera in range(CAMERAS):\n",
    "        imagePathOnRemote=line[camera]\n",
    "        filename=imagePathOnRemote.split(\"/\")[-1]\n",
    "        imagePath=IMAGEDIRECTORY+\"/\"+filename\n",
    "        image=cv2.imread(imagePath)\n",
    "        if (image==None):\n",
    "            print (\"line:\", line)\n",
    "            print(\"image:\", image, \", imagePath:\", imagePath)\n",
    "            exit\n",
    "        #print(\"imagePath:\", imagePath, \"image.shape:\", image.shape)\n",
    "        images.append(image)\n",
    "        steeringMeasurements.append(float(line[STEERINGMEASUEMENT])+STERRINGADJUSTMENT[camera])\n",
    "    #print(\"line:\", line)\n",
    "    #print(\"len(images):\", len(images), \"steeringMeasurements:\", steeringMeasurements)\n",
    "\n",
    "print(\"len(images):\", len(images), \"len(steeringMeasurements):\", len(steeringMeasurements))\n",
    "print(\"images[0].shape:\", images[0].shape)\n",
    "assert len(images)==len(steeringMeasurements)"
   ]
  },
  {
   "cell_type": "code",
   "execution_count": null,
   "metadata": {
    "collapsed": true
   },
   "outputs": [],
   "source": [
    "import cv2\n",
    "\n",
    "images=[]\n",
    "steeringMeasurements=[]\n",
    "for line in lines:\n",
    "#for line in lines[0:1]:\n",
    "    for camera in range(CAMERAS):\n",
    "        imagePathOnRemote=line[camera]\n",
    "        filename=imagePathOnRemote.split(\"/\")[-1]\n",
    "        imagePath=IMAGEDIRECTORY+\"/\"+filename\n",
    "        image=cv2.imread(imagePath)\n",
    "        if (image==None):\n",
    "            print (\"line:\", line)\n",
    "            print(\"image:\", image, \", imagePath:\", imagePath)\n",
    "            exit\n",
    "        #print(\"imagePath:\", imagePath, \"image.shape:\", image.shape)\n",
    "        images.append(image)\n",
    "        steering=float(line[STEERINGMEASUEMENT])+STERRINGADJUSTMENT[camera]\n",
    "        steeringMeasurements.append(steering)\n",
    "        images.append(cv2.flip(image,1))\n",
    "        steeringMeasurements.append(steering*-1)\n",
    "    #print(\"line:\", line)\n",
    "    #print(\"len(images):\", len(images), \"steeringMeasurements:\", steeringMeasurements)\n",
    "\n",
    "print(\"len(images):\", len(images), \"len(steeringMeasurements):\", len(steeringMeasurements))\n",
    "print(\"images[0].shape:\", images[0].shape)\n",
    "assert len(images)==len(steeringMeasurements)\n"
   ]
  },
  {
   "cell_type": "code",
   "execution_count": null,
   "metadata": {
    "collapsed": true
   },
   "outputs": [],
   "source": [
    "grayScaleImages=[]\n",
    "grayScaleSteering=[]\n",
    "for image, steering in zip(augmentedImages, augmentedSteering):\n",
    "    #gray_image = cv2.cvtColor(image, cv2.COLOR_BGR2GRAY) \n",
    "    grayScaleImage=cv2.cvtColor(image, cv2.COLOR_BGR2GRAY)\n",
    "    grayScaleImages.append(grayScaleImage)\n",
    "    grayScaleSteering.append(steering)\n"
   ]
  },
  {
   "cell_type": "code",
   "execution_count": 4,
   "metadata": {},
   "outputs": [
    {
     "name": "stdout",
     "output_type": "stream",
     "text": [
      "X_train.shape: (32511, 160, 320, 3) y_train.shape: (32511,)\n",
      "X_train[0].shape: (160, 320, 3)\n"
     ]
    }
   ],
   "source": [
    "import numpy as np\n",
    "\n",
    "X_train=np.array(images)\n",
    "y_train=np.array(steeringMeasurements)\n",
    "\n",
    "#X_train=np.array(grayScaleImages)\n",
    "#y_train=np.array(grayScaleSteering)\n",
    "\n",
    "print(\"X_train.shape:\", X_train.shape, \"y_train.shape:\", y_train.shape)\n",
    "print(\"X_train[0].shape:\", X_train[0].shape)"
   ]
  },
  {
   "cell_type": "code",
   "execution_count": 5,
   "metadata": {},
   "outputs": [
    {
     "name": "stdout",
     "output_type": "stream",
     "text": [
      "XtrainInputShape: (160, 320, 3)\n",
      "Train on 26008 samples, validate on 6503 samples\n",
      "Epoch 1/4\n",
      "26008/26008 [==============================] - 61s - loss: 0.0318 - acc: 0.2364 - val_loss: 0.0557 - val_acc: 0.2482\n",
      "Epoch 2/4\n",
      "26008/26008 [==============================] - 58s - loss: 0.0240 - acc: 0.2365 - val_loss: 0.0487 - val_acc: 0.2483\n",
      "Epoch 3/4\n",
      "26008/26008 [==============================] - 58s - loss: 0.0213 - acc: 0.2365 - val_loss: 0.0582 - val_acc: 0.2483\n",
      "Epoch 4/4\n",
      "26008/26008 [==============================] - 58s - loss: 0.0191 - acc: 0.2365 - val_loss: 0.0568 - val_acc: 0.2477\n",
      "dict_keys(['val_loss', 'loss', 'val_acc', 'acc'])\n",
      "saving model as: 2017_07_11_20_44.model\n"
     ]
    }
   ],
   "source": [
    "from keras.models import Sequential\n",
    "from keras.layers.core import Dense, Activation, Flatten, Dropout\n",
    "from keras.layers import Lambda\n",
    "from keras.layers import Cropping2D\n",
    "from keras.layers.convolutional import Convolution2D\n",
    "from keras.layers.pooling import MaxPooling2D\n",
    "import keras as keras\n",
    "\n",
    "XtrainInputShape=X_train.shape[1:len(X_train.shape)]\n",
    "print (\"XtrainInputShape:\", XtrainInputShape)\n",
    "\n",
    "model = Sequential()\n",
    "#model.add(Lambda(lambda x: (x / 255.0) - 0.5, input_shape=(160,320,3)))\n",
    "model.add(Lambda(lambda x: (x / 255.0) - 0.5, input_shape=XtrainInputShape))\n",
    "\n",
    "model.add(Cropping2D(cropping=((70,25),(0,0))))\n",
    "\n",
    "#model.add(Flatten(input_shape=X_train.shape[1:4]))\n",
    "#model.add(Flatten(input_shape=(160,320,3)))\n",
    "\n",
    "# add lenet\n",
    "#model.add(Convolution2D(10, 5, 5, input_shape=XtrainInputShape, activation=\"relu\"))\n",
    "#model.add(MaxPooling2D())\n",
    "#model.add(Convolution2D(6, 5, 5, activation=\"relu\"))\n",
    "#model.add(MaxPooling2D())\n",
    "#model.add(Flatten())\n",
    "#model.add(Dropout(.25))\n",
    "#model.add(Dense(120))\n",
    "#model.add(Dropout(.25))\n",
    "#model.add(Dense(84))\n",
    "\n",
    "# nvidia model\n",
    "model.add(Convolution2D(24, 5, 5, subsample=(2,2), activation=\"relu\"))\n",
    "model.add(Convolution2D(36, 5, 5, subsample=(2,2), activation=\"relu\"))\n",
    "model.add(Convolution2D(48, 5, 5, subsample=(2,2), activation=\"relu\"))\n",
    "model.add(Convolution2D(64, 3, 3, activation=\"relu\"))\n",
    "model.add(Convolution2D(64, 3, 3, activation=\"relu\"))\n",
    "model.add(Flatten())\n",
    "model.add(Dense(100))\n",
    "model.add(Dense(50))\n",
    "model.add(Dense(10))\n",
    "\n",
    "##\n",
    "model.add(Dense(1))\n",
    "\n",
    "#from keras import Optimizers\n",
    "\n",
    "adamOptimizer=keras.optimizers.Adam(lr=0.0001)\n",
    "model.compile(optimizer=adamOptimizer, loss='mse', metrics=['accuracy'])\n",
    "history_object=model.fit(X_train, y_train, validation_split=0.2, shuffle=True, nb_epoch=4)\n",
    "\n",
    "import datetime\n",
    "\n",
    "modelFilename=datetime.datetime.now().strftime(\"%Y_%m_%d_%H_%M\")+\".model\"\n",
    "print (\"saving model as:\", modelFilename)\n",
    "model.save(modelFilename)"
   ]
  },
  {
   "cell_type": "code",
   "execution_count": 7,
   "metadata": {},
   "outputs": [
    {
     "name": "stdout",
     "output_type": "stream",
     "text": [
      "dict_keys(['val_loss', 'loss', 'val_acc', 'acc'])\n"
     ]
    },
    {
     "data": {
      "image/png": "[encoded data removed]",
      "text/plain": [
       "<matplotlib.figure.Figure at 0x7efe398ac898>"
      ]
     },
     "metadata": {},
     "output_type": "display_data"
    }
   ],
   "source": [
    "import matplotlib.pyplot as plt\n",
    "\n",
    "### print the keys contained in the history object\n",
    "print(history_object.history.keys())\n",
    "\n",
    "### plot the training and validation loss for each epoch\n",
    "plt.plot(history_object.history['loss'])\n",
    "plt.plot(history_object.history['val_loss'])\n",
    "plt.title('model mean squared error loss')\n",
    "plt.ylabel('mean squared error loss')\n",
    "plt.xlabel('epoch')\n",
    "plt.legend(['training set', 'validation set'], loc='upper right')\n",
    "plt.show()"
   ]
  },
  {
   "cell_type": "code",
   "execution_count": null,
   "metadata": {
    "collapsed": true
   },
   "outputs": [],
   "source": []
  }
 ],
 "metadata": {
  "kernelspec": {
   "display_name": "Python 3",
   "language": "python",
   "name": "python3"
  },
  "language_info": {
   "codemirror_mode": {
    "name": "ipython",
    "version": 3
   },
   "file_extension": ".py",
   "mimetype": "text/x-python",
   "name": "python",
   "nbconvert_exporter": "python",
   "pygments_lexer": "ipython3",
   "version": "3.5.2"
  },
  "widgets": {
   "state": {},
   "version": "1.1.2"
  }
 },
 "nbformat": 4,
 "nbformat_minor": 2
}
