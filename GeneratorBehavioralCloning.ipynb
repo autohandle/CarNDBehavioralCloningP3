{
 "cells": [
  {
   "cell_type": "code",
   "execution_count": 2,
   "metadata": {},
   "outputs": [
    {
     "name": "stdout",
     "output_type": "stream",
     "text": [
      "lines: 10837\n"
     ]
    }
   ],
   "source": [
    "import csv\n",
    "\n",
    "DATADIRECTORY=\"./simData\"\n",
    "IMAGEDIRECTORY=\"./simData/IMG\"\n",
    "DRIVINGLOG=DATADIRECTORY+\"/driving_log.csv\"\n",
    "lines=[]\n",
    "with open(DRIVINGLOG) as csvFile:\n",
    "    reader=csv.reader(csvFile)\n",
    "    for line in reader:\n",
    "        lines.append(line)\n",
    "print(\"lines:\", len(lines))\n",
    "\n",
    "import cv2\n",
    "\n",
    "CENTERIMAGE=0\n",
    "STEERINGMEASUEMENT=3\n",
    "CAMERAS=3\n",
    "# CENTER, LEFT, RIGHT\n",
    "STERRINGADJUSTMENT=[0, .25, -.25]\n"
   ]
  },
  {
   "cell_type": "code",
   "execution_count": 3,
   "metadata": {
    "collapsed": true
   },
   "outputs": [],
   "source": [
    "import cv2\n",
    "import numpy as np\n",
    "import sklearn\n",
    "\n",
    "def readImage(imagePathOnRemote):\n",
    "    filename=imagePathOnRemote.split(\"/\")[-1]\n",
    "    imagePath=IMAGEDIRECTORY+\"/\"+filename\n",
    "    image=cv2.imread(imagePath)\n",
    "    #print(\"imagePath:\", imagePath, \"image.shape:\", image.shape)\n",
    "    return image;\n",
    "\n",
    "def generator(lines, batchSize=128):\n",
    "    #print(\"lines:\", len(lines))\n",
    "    numberOfSamples = len(lines)\n",
    "    while 1: # Loop forever so the generator never terminates\n",
    "        lines=sklearn.utils.shuffle(lines) # every epoch\n",
    "        #print(\"shuffled lines:\", len(lines))\n",
    "        for offset in range(0, numberOfSamples, batchSize):\n",
    "            batchOfLines = lines[offset:offset+batchSize]\n",
    "\n",
    "            images=[]\n",
    "            steeringMeasurements=[]\n",
    "\n",
    "            for line in batchOfLines:\n",
    "                for camera in range(CAMERAS):\n",
    "                    imagePathOnRemote=line[camera]\n",
    "                    image=readImage(imagePathOnRemote)\n",
    "                    if (image is None):\n",
    "                        print (\"line:\", line)\n",
    "                        print(\"image:\", image, \", imagePath:\", imagePath)\n",
    "                        exit\n",
    "                    images.append(image)\n",
    "                    steering=float(line[STEERINGMEASUEMENT])+STERRINGADJUSTMENT[camera]\n",
    "                    steeringMeasurements.append(steering)\n",
    "                    images.append(cv2.flip(image,1))\n",
    "                    steeringMeasurements.append(steering*-1)\n",
    "                    assert len(images)==len(steeringMeasurements)\n",
    "\n",
    "            # trim image to only see section with road\n",
    "            X_train = np.array(images)\n",
    "            y_train = np.array(steeringMeasurements)\n",
    "            assert len(X_train)==len(y_train)\n",
    "            #print(\"X_train.shape:\", X_train.shape, \"y_train.shape:\", y_train.shape)\n",
    "            #print(\"X_train[0].shape:\", X_train[0].shape)\n",
    "            yield sklearn.utils.shuffle(X_train, y_train)"
   ]
  },
  {
   "cell_type": "code",
   "execution_count": 4,
   "metadata": {},
   "outputs": [
    {
     "name": "stdout",
     "output_type": "stream",
     "text": [
      "train_samples: 8669 validation_samples: 2168\n",
      "train_samples[0]: 7\n"
     ]
    }
   ],
   "source": [
    "from sklearn.model_selection import train_test_split\n",
    "\n",
    "train_samples, validation_samples = train_test_split(lines, test_size=0.2)\n",
    "print(\"train_samples:\", len(train_samples), \"validation_samples:\", len(validation_samples))\n",
    "print(\"train_samples[0]:\",len(train_samples[0]))\n",
    "\n",
    "# compile and train the model using the generator function\n",
    "train_generator = generator(train_samples, batchSize=128)\n",
    "validation_generator = generator(validation_samples, batchSize=128)"
   ]
  },
  {
   "cell_type": "code",
   "execution_count": 19,
   "metadata": {},
   "outputs": [
    {
     "name": "stdout",
     "output_type": "stream",
     "text": [
      "sampleImage.shape: (160, 320, 3)\n",
      "XtrainInputShape: (160, 320, 3)\n",
      "Epoch 1/50\n",
      "8448/8669 [============================>.] - ETA: 0s - loss: 0.2467"
     ]
    },
    {
     "name": "stderr",
     "output_type": "stream",
     "text": [
      "/home/carnd/anaconda3/envs/carnd-term1/lib/python3.5/site-packages/keras/engine/training.py:1569: UserWarning: Epoch comprised more than `samples_per_epoch` samples, which might affect learning results. Set `samples_per_epoch` correctly to avoid this warning.\n",
      "  warnings.warn('Epoch comprised more than '\n"
     ]
    },
    {
     "name": "stdout",
     "output_type": "stream",
     "text": [
      "9216/8669 [===============================] - 23s - loss: 0.2377 - val_loss: 0.0671\n",
      "Epoch 2/50\n",
      "9216/8669 [===============================] - 22s - loss: 0.0987 - val_loss: 0.0729\n",
      "Epoch 3/50\n",
      "9216/8669 [===============================] - 22s - loss: 0.0683 - val_loss: 0.0589\n",
      "Epoch 4/50\n",
      "9006/8669 [===============================] - 22s - loss: 0.0611 - val_loss: 0.0681\n",
      "Epoch 5/50\n",
      "9216/8669 [===============================] - 22s - loss: 0.0556 - val_loss: 0.0654\n",
      "Epoch 6/50\n",
      "9216/8669 [===============================] - 22s - loss: 0.0456 - val_loss: 0.0653\n",
      "Epoch 7/50\n",
      "9216/8669 [===============================] - 22s - loss: 0.0466 - val_loss: 0.0667\n",
      "Epoch 8/50\n",
      "9216/8669 [===============================] - 22s - loss: 0.0471 - val_loss: 0.0651\n",
      "Epoch 9/50\n",
      "9216/8669 [===============================] - 22s - loss: 0.0397 - val_loss: 0.0587\n",
      "Epoch 10/50\n",
      "9006/8669 [===============================] - 21s - loss: 0.0417 - val_loss: 0.0681\n",
      "Epoch 11/50\n",
      "9216/8669 [===============================] - 22s - loss: 0.0394 - val_loss: 0.0649\n",
      "Epoch 12/50\n",
      "9216/8669 [===============================] - 22s - loss: 0.0394 - val_loss: 0.0673\n",
      "Epoch 13/50\n",
      "9216/8669 [===============================] - 22s - loss: 0.0386 - val_loss: 0.0637\n",
      "Epoch 14/50\n",
      "9216/8669 [===============================] - 22s - loss: 0.0338 - val_loss: 0.0621\n",
      "Epoch 15/50\n",
      "9006/8669 [===============================] - 21s - loss: 0.0373 - val_loss: 0.0582\n",
      "Epoch 16/50\n",
      "9216/8669 [===============================] - 22s - loss: 0.0363 - val_loss: 0.0610\n",
      "Epoch 17/50\n",
      "9216/8669 [===============================] - 22s - loss: 0.0351 - val_loss: 0.0619\n",
      "Epoch 18/50\n",
      "9216/8669 [===============================] - 22s - loss: 0.0342 - val_loss: 0.0551\n",
      "Epoch 19/50\n",
      "9216/8669 [===============================] - 22s - loss: 0.0325 - val_loss: 0.0559\n",
      "Epoch 20/50\n",
      "9216/8669 [===============================] - 22s - loss: 0.0309 - val_loss: 0.0511\n",
      "Epoch 21/50\n",
      "9006/8669 [===============================] - 21s - loss: 0.0330 - val_loss: 0.0511\n",
      "Epoch 22/50\n",
      "9216/8669 [===============================] - 22s - loss: 0.0284 - val_loss: 0.0467\n",
      "Epoch 23/50\n",
      "9216/8669 [===============================] - 22s - loss: 0.0318 - val_loss: 0.0524\n",
      "Epoch 24/50\n",
      "9216/8669 [===============================] - 22s - loss: 0.0333 - val_loss: 0.0447\n",
      "Epoch 25/50\n",
      "9216/8669 [===============================] - 22s - loss: 0.0306 - val_loss: 0.0427\n",
      "Epoch 26/50\n",
      "9216/8669 [===============================] - 22s - loss: 0.0321 - val_loss: 0.0531\n",
      "Epoch 27/50\n",
      "9006/8669 [===============================] - 22s - loss: 0.0289 - val_loss: 0.0422\n",
      "Epoch 28/50\n",
      "9216/8669 [===============================] - 22s - loss: 0.0311 - val_loss: 0.0417\n",
      "Epoch 29/50\n",
      "9216/8669 [===============================] - 22s - loss: 0.0302 - val_loss: 0.0464\n",
      "Epoch 30/50\n",
      "9216/8669 [===============================] - 22s - loss: 0.0287 - val_loss: 0.0317\n",
      "Epoch 31/50\n",
      "9216/8669 [===============================] - 22s - loss: 0.0284 - val_loss: 0.0376\n",
      "Epoch 32/50\n",
      "9006/8669 [===============================] - 21s - loss: 0.0281 - val_loss: 0.0317\n",
      "Epoch 33/50\n",
      "9216/8669 [===============================] - 22s - loss: 0.0286 - val_loss: 0.0420\n",
      "Epoch 34/50\n",
      "9216/8669 [===============================] - 22s - loss: 0.0280 - val_loss: 0.0322\n",
      "Epoch 35/50\n",
      "9216/8669 [===============================] - 22s - loss: 0.0276 - val_loss: 0.0357\n",
      "Epoch 36/50\n",
      "9216/8669 [===============================] - 22s - loss: 0.0271 - val_loss: 0.0351\n",
      "Epoch 37/50\n",
      "9216/8669 [===============================] - 22s - loss: 0.0284 - val_loss: 0.0299\n",
      "Epoch 38/50\n",
      "9006/8669 [===============================] - 21s - loss: 0.0264 - val_loss: 0.0353\n",
      "Epoch 39/50\n",
      "9216/8669 [===============================] - 22s - loss: 0.0261 - val_loss: 0.0253\n",
      "Epoch 40/50\n",
      "9216/8669 [===============================] - 22s - loss: 0.0278 - val_loss: 0.0312\n",
      "Epoch 41/50\n",
      "9216/8669 [===============================] - 22s - loss: 0.0276 - val_loss: 0.0289\n",
      "Epoch 42/50\n",
      "9216/8669 [===============================] - 22s - loss: 0.0267 - val_loss: 0.0281\n",
      "Epoch 43/50\n",
      "9216/8669 [===============================] - 22s - loss: 0.0269 - val_loss: 0.0250\n",
      "Epoch 44/50\n",
      "9006/8669 [===============================] - 21s - loss: 0.0254 - val_loss: 0.0287\n",
      "Epoch 45/50\n",
      "9216/8669 [===============================] - 22s - loss: 0.0256 - val_loss: 0.0264\n",
      "Epoch 46/50\n",
      "9216/8669 [===============================] - 22s - loss: 0.0251 - val_loss: 0.0339\n",
      "Epoch 47/50\n",
      "9216/8669 [===============================] - 22s - loss: 0.0261 - val_loss: 0.0273\n",
      "Epoch 48/50\n",
      "9216/8669 [===============================] - 22s - loss: 0.0273 - val_loss: 0.0265\n",
      "Epoch 49/50\n",
      "9006/8669 [===============================] - 21s - loss: 0.0263 - val_loss: 0.0252\n",
      "Epoch 50/50\n",
      "9216/8669 [===============================] - 22s - loss: 0.0250 - val_loss: 0.0268\n",
      "saving model as: 2017_07_12_02_48.model\n"
     ]
    }
   ],
   "source": [
    "from keras.models import Sequential\n",
    "from keras.layers.core import Dense, Activation, Flatten, Dropout\n",
    "from keras.layers import Lambda\n",
    "from keras.layers import Cropping2D\n",
    "from keras.layers.convolutional import Convolution2D\n",
    "from keras.layers.pooling import MaxPooling2D\n",
    "from keras.layers.normalization import BatchNormalization\n",
    "import keras as keras\n",
    "\n",
    "sampleImage=readImage(lines[0][0])\n",
    "print(\"sampleImage.shape:\", sampleImage.shape)\n",
    "XtrainInputShape=sampleImage.shape[0:len(sampleImage.shape)]\n",
    "print (\"XtrainInputShape:\", XtrainInputShape)\n",
    "\n",
    "model = Sequential()\n",
    "model.add(Lambda(lambda x: (x / 127.5) - 1, input_shape=XtrainInputShape, output_shape=XtrainInputShape))\n",
    "#model.add(Lambda(lambda x: (x / 127.5) - 1, input_shape=(3,80,320), output_shape=(3,80,320)))\n",
    "\n",
    "model.add(Cropping2D(cropping=((70,25),(0,0))))\n",
    "\n",
    "# nvidia model\n",
    "model.add(Convolution2D(24, 5, 5, subsample=(2,2)))\n",
    "model.add(BatchNormalization())\n",
    "model.add(Activation('relu'))\n",
    "\n",
    "model.add(Convolution2D(36, 5, 5, subsample=(2,2)))\n",
    "model.add(BatchNormalization())\n",
    "model.add(Activation('relu'))\n",
    "\n",
    "model.add(Convolution2D(48, 5, 5, subsample=(2,2), activation=\"relu\"))\n",
    "model.add(Convolution2D(64, 3, 3, activation=\"relu\"))\n",
    "model.add(Convolution2D(64, 3, 3, activation=\"relu\"))\n",
    "\n",
    "model.add(Flatten())\n",
    "\n",
    "model.add(Dense(100))\n",
    "model.add(Dropout(.2))\n",
    "\n",
    "model.add(Dense(50))\n",
    "model.add(Dense(10))\n",
    "\n",
    "##\n",
    "model.add(Dense(1))\n",
    "\n",
    "adamOptimizer=keras.optimizers.Adam(lr=0.0001)\n",
    "model.compile(loss='mse', optimizer=adamOptimizer)\n",
    "#model.compile(loss='mse', optimizer='adam')\n",
    "\n",
    "history_object=model.fit_generator(train_generator, samples_per_epoch=len(train_samples), validation_data=validation_generator,\n",
    "                                   nb_val_samples=len(validation_samples), nb_epoch=50)\n",
    "\n",
    "#adamOptimizer=keras.optimizers.Adam(lr=0.0001)\n",
    "#model.compile(optimizer=adamOptimizer, loss='mse', metrics=['accuracy'])\n",
    "#history_object=model.fit(X_train, y_train, validation_split=0.2, shuffle=True, nb_epoch=50)\n",
    "\n",
    "import datetime\n",
    "\n",
    "modelFilename=datetime.datetime.now().strftime(\"%Y_%m_%d_%H_%M\")+\".model\"\n",
    "print (\"saving model as:\", modelFilename)\n",
    "model.save(modelFilename)"
   ]
  },
  {
   "cell_type": "code",
   "execution_count": 20,
   "metadata": {},
   "outputs": [
    {
     "name": "stdout",
     "output_type": "stream",
     "text": [
      "dict_keys(['loss', 'val_loss'])\n",
      "key: loss , values: [0.23773318032423654, 0.098741707081596061, 0.06831677258014679, 0.0610889039243721, 0.055612627106408276, 0.045595836204787098, 0.046607847015062966, 0.047141370053092636, 0.039746838000913463, 0.041714504390935117, 0.039378713505963482, 0.039382968097925186, 0.03864705997208754, 0.0338353697831432, 0.037307107646134915, 0.036330412762860455, 0.035065973798433937, 0.034179764334112406, 0.032479600204775728, 0.030930135243882734, 0.033031338449818225, 0.028358835571755964, 0.031831133489807449, 0.033346988260746002, 0.030639516810576122, 0.032139749887088932, 0.028880483323806209, 0.031141513958573341, 0.030228679378827412, 0.028716865616540115, 0.028404993781199057, 0.028137359019867744, 0.028564858871201675, 0.027950188145041466, 0.027589847644170124, 0.02705046022310853, 0.028396526506791513, 0.026365501809862753, 0.02608640616138776, 0.02783611121897896, 0.027637793682515621, 0.026726184568057459, 0.02685015896956126, 0.025360164951674546, 0.025604586272190016, 0.02508133091032505, 0.026143124016622703, 0.027307329156125586, 0.026319378653142867, 0.024985352686295908]\n",
      "key: val_loss , values: [0.067059678335984543, 0.072905477691203993, 0.058927004535992943, 0.068118132650852203, 0.065420685613408996, 0.065253497411807374, 0.06674928218126297, 0.065102522571881608, 0.058717630803585052, 0.06812826792399089, 0.064948985973993942, 0.067297983914613724, 0.063726488500833511, 0.062080894907315574, 0.058159247040748596, 0.061009001303860479, 0.061890300363302231, 0.055066861212253571, 0.055857136132235224, 0.051067503790060677, 0.051092769950628281, 0.04674125613367304, 0.052431469162305198, 0.044742544492085777, 0.042731678734223046, 0.053126404682795204, 0.042227851847807564, 0.041658555467923485, 0.046355709433555603, 0.031704423328240715, 0.037565942853689194, 0.031690723573168121, 0.042003483927630363, 0.032157629728317261, 0.035653107489148773, 0.035091830972344321, 0.029914864028493564, 0.035342611372470856, 0.025277799669098346, 0.031162635733683903, 0.028932214404145878, 0.028084669262170792, 0.024975125988324482, 0.028730642671386402, 0.026419143502910931, 0.03389668775101503, 0.027306288480758667, 0.026549574608604114, 0.025169741983215015, 0.026805849428823653]\n"
     ]
    },
    {
     "data": {
      "image/png": "[encoded data removed]",
      "text/plain": [
       "<matplotlib.figure.Figure at 0x7f7c2f12c160>"
      ]
     },
     "metadata": {},
     "output_type": "display_data"
    }
   ],
   "source": [
    "import matplotlib.pyplot as plt\n",
    "\n",
    "### print the keys contained in the history object\n",
    "print(history_object.history.keys())\n",
    "for key in history_object.history.keys():\n",
    "    print (\"key:\", key,\", values:\", history_object.history[key])\n",
    "\n",
    "### plot the training and validation loss for each epoch\n",
    "plt.plot(history_object.history['loss'])\n",
    "plt.plot(history_object.history['val_loss'])\n",
    "plt.title('model mean squared error loss')\n",
    "plt.ylabel('mean squared error loss')\n",
    "plt.xlabel('epoch')\n",
    "plt.legend(['training set', 'validation set'], loc='upper right')\n",
    "plt.show()"
   ]
  },
  {
   "cell_type": "code",
   "execution_count": null,
   "metadata": {
    "collapsed": true
   },
   "outputs": [],
   "source": []
  }
 ],
 "metadata": {
  "kernelspec": {
   "display_name": "Python 3",
   "language": "python",
   "name": "python3"
  },
  "language_info": {
   "codemirror_mode": {
    "name": "ipython",
    "version": 3
   },
   "file_extension": ".py",
   "mimetype": "text/x-python",
   "name": "python",
   "nbconvert_exporter": "python",
   "pygments_lexer": "ipython3",
   "version": "3.5.2"
  },
  "widgets": {
   "state": {},
   "version": "1.1.2"
  }
 },
 "nbformat": 4,
 "nbformat_minor": 2
}
